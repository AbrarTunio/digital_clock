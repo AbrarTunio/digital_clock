{
 "cells": [
  {
   "cell_type": "code",
   "execution_count": 1,
   "id": "mineral-obligation",
   "metadata": {},
   "outputs": [],
   "source": [
    "#*Creating Timer*"
   ]
  },
  {
   "cell_type": "code",
   "execution_count": 1,
   "id": "driving-guard",
   "metadata": {},
   "outputs": [],
   "source": [
    "#Importing Libraries\n",
    "from tkinter import *\n",
    "from tkinter.ttk import *\n",
    "from time import strftime"
   ]
  },
  {
   "cell_type": "code",
   "execution_count": 2,
   "id": "chronic-bahrain",
   "metadata": {},
   "outputs": [
    {
     "data": {
      "text/plain": [
       "''"
      ]
     },
     "execution_count": 2,
     "metadata": {},
     "output_type": "execute_result"
    }
   ],
   "source": [
    "#Initializing root\n",
    "root = Tk()\n",
    "root.title(\"The Institute of Management and Entrepreneurship\")"
   ]
  },
  {
   "cell_type": "code",
   "execution_count": 3,
   "id": "nervous-editing",
   "metadata": {},
   "outputs": [],
   "source": [
    "#defining time function\n",
    "def time():\n",
    "    string = strftime(\"%H:%M:%S %p\")\n",
    "    label.config(text=string)\n",
    "    label.after(1000,time)"
   ]
  },
  {
   "cell_type": "code",
   "execution_count": 4,
   "id": "ambient-creature",
   "metadata": {},
   "outputs": [],
   "source": [
    "#Creating GUI Environment\n",
    "label = Label(root, font=(\"Times New Roman\",80), background=\"#0000A6\", foreground=\"#FF8000\")\n",
    "label.pack(anchor=\"center\")"
   ]
  },
  {
   "cell_type": "code",
   "execution_count": 5,
   "id": "finnish-piano",
   "metadata": {},
   "outputs": [],
   "source": [
    "time()"
   ]
  },
  {
   "cell_type": "code",
   "execution_count": 6,
   "id": "simplified-grill",
   "metadata": {},
   "outputs": [],
   "source": [
    "mainloop()"
   ]
  },
  {
   "cell_type": "code",
   "execution_count": null,
   "id": "coordinate-cloud",
   "metadata": {},
   "outputs": [],
   "source": []
  },
  {
   "cell_type": "code",
   "execution_count": null,
   "id": "unknown-usage",
   "metadata": {},
   "outputs": [],
   "source": []
  }
 ],
 "metadata": {
  "kernelspec": {
   "display_name": "Python 3",
   "language": "python",
   "name": "python3"
  },
  "language_info": {
   "codemirror_mode": {
    "name": "ipython",
    "version": 3
   },
   "file_extension": ".py",
   "mimetype": "text/x-python",
   "name": "python",
   "nbconvert_exporter": "python",
   "pygments_lexer": "ipython3",
   "version": "3.9.6"
  },
  "toc-autonumbering": false,
  "toc-showcode": false,
  "toc-showmarkdowntxt": false,
  "toc-showtags": false
 },
 "nbformat": 4,
 "nbformat_minor": 5
}
